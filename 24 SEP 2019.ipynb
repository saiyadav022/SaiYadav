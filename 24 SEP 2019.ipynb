{
 "cells": [
  {
   "cell_type": "markdown",
   "metadata": {},
   "source": [
    "# variable\n",
    "- variable is to store\n",
    "- naming rules\n",
    "- should start with alphabets under score(_),alphanumeric\n"
   ]
  },
  {
   "cell_type": "markdown",
   "metadata": {},
   "source": [
    "# code comments\n",
    "- #is single line\n",
    "- '''text'''or\"\"\"text\"\"\"for multiline"
   ]
  },
  {
   "cell_type": "code",
   "execution_count": 8,
   "metadata": {},
   "outputs": [],
   "source": [
    "# getting keywords list"
   ]
  },
  {
   "cell_type": "markdown",
   "metadata": {},
   "source": [
    "import keyword\n"
   ]
  },
  {
   "cell_type": "code",
   "execution_count": 10,
   "metadata": {},
   "outputs": [
    {
     "data": {
      "text/plain": [
       "['False',\n",
       " 'None',\n",
       " 'True',\n",
       " 'and',\n",
       " 'as',\n",
       " 'assert',\n",
       " 'async',\n",
       " 'await',\n",
       " 'break',\n",
       " 'class',\n",
       " 'continue',\n",
       " 'def',\n",
       " 'del',\n",
       " 'elif',\n",
       " 'else',\n",
       " 'except',\n",
       " 'finally',\n",
       " 'for',\n",
       " 'from',\n",
       " 'global',\n",
       " 'if',\n",
       " 'import',\n",
       " 'in',\n",
       " 'is',\n",
       " 'lambda',\n",
       " 'nonlocal',\n",
       " 'not',\n",
       " 'or',\n",
       " 'pass',\n",
       " 'raise',\n",
       " 'return',\n",
       " 'try',\n",
       " 'while',\n",
       " 'with',\n",
       " 'yield']"
      ]
     },
     "execution_count": 10,
     "metadata": {},
     "output_type": "execute_result"
    }
   ],
   "source": [
    "keyword.kwlist"
   ]
  },
  {
   "cell_type": "markdown",
   "metadata": {},
   "source": [
    "# operators\n",
    "** - powers\n",
    "// - floor values"
   ]
  },
  {
   "cell_type": "markdown",
   "metadata": {},
   "source": [
    "# membership operator(in,not in)"
   ]
  },
  {
   "cell_type": "code",
   "execution_count": 18,
   "metadata": {},
   "outputs": [
    {
     "name": "stdout",
     "output_type": "stream",
     "text": [
      "true\n"
     ]
    }
   ],
   "source": [
    " a=[1,2,3,4,5]\n",
    " if 6 not in a:\n",
    "    print('true')"
   ]
  },
  {
   "cell_type": "markdown",
   "metadata": {},
   "source": [
    "# identity operators(is,is not)"
   ]
  },
  {
   "cell_type": "code",
   "execution_count": 22,
   "metadata": {},
   "outputs": [
    {
     "name": "stdout",
     "output_type": "stream",
     "text": [
      "False\n"
     ]
    }
   ],
   "source": [
    "a=10\n",
    "b=5\n",
    "if a is b:\n",
    "    print(True)\n",
    "else:\n",
    "    print(False)\n",
    "    \n",
    "\n",
    "  "
   ]
  },
  {
   "cell_type": "markdown",
   "metadata": {},
   "source": [
    "# Expression\n",
    "- operator precedency(PEMDAS)"
   ]
  },
  {
   "cell_type": "code",
   "execution_count": 27,
   "metadata": {},
   "outputs": [
    {
     "name": "stdout",
     "output_type": "stream",
     "text": [
      "11.0\n"
     ]
    }
   ],
   "source": [
    "a,b,c,d=5,4,3,2\n",
    "print(a+b*c/d)"
   ]
  },
  {
   "cell_type": "markdown",
   "metadata": {},
   "source": [
    "# python literals\n",
    "- literal is a data which is given to variables\n",
    "- types of literals\n",
    " - string literals\n",
    "   - single line('')\n",
    "   - multiline(\"\"\" \"\"\")\n",
    "- numerical literals\n",
    "  - int,long,float,complex\n",
    "- boolean and special literals\n",
    "  - true,false\n",
    "- literlas collections\n",
    "  - list,tuple,dictionary  "
   ]
  },
  {
   "cell_type": "code",
   "execution_count": 32,
   "metadata": {},
   "outputs": [
    {
     "name": "stdout",
     "output_type": "stream",
     "text": [
      "ece students\n"
     ]
    }
   ],
   "source": [
    "# single line\n",
    "a='ece'\n",
    "b='students'\n",
    "print(a,b)"
   ]
  },
  {
   "cell_type": "code",
   "execution_count": 1,
   "metadata": {},
   "outputs": [],
   "source": [
    "# multi line\n",
    "a='''hi\n",
    "hello\n",
    "how r u?\n",
    "'''\n"
   ]
  },
  {
   "cell_type": "markdown",
   "metadata": {},
   "source": [
    "# reading user input"
   ]
  },
  {
   "cell_type": "code",
   "execution_count": 2,
   "metadata": {},
   "outputs": [
    {
     "ename": "SyntaxError",
     "evalue": "invalid syntax (<ipython-input-2-826123c5f77f>, line 14)",
     "output_type": "error",
     "traceback": [
      "\u001b[1;36m  File \u001b[1;32m\"<ipython-input-2-826123c5f77f>\"\u001b[1;36m, line \u001b[1;32m14\u001b[0m\n\u001b[1;33m    n=(int (input method) input())\u001b[0m\n\u001b[1;37m                       ^\u001b[0m\n\u001b[1;31mSyntaxError\u001b[0m\u001b[1;31m:\u001b[0m invalid syntax\n"
     ]
    }
   ],
   "source": [
    "'''\n",
    "a=5\n",
    "print(a)\n",
    "print(type(a))\n",
    "\n",
    "\n",
    "a=sai\n",
    "print(a)\n",
    "print(type(a))\n",
    "'''\n",
    "n=input()\n",
    "print(n)\n",
    "print(type(a))\n",
    "n=(int(input method) input())\n",
    "print(n)\n",
    "print(type(n))"
   ]
  },
  {
   "cell_type": "markdown",
   "metadata": {},
   "source": [
    "# conditional statements\n",
    "- used for decision making\n",
    "- if the condition satifies it just return boolean value\n",
    "- types\n",
    " - if \n",
    " - if else\n",
    " - elif"
   ]
  },
  {
   "cell_type": "markdown",
   "metadata": {},
   "source": [
    "# if statement\n",
    "```\n",
    "if condition:\n",
    "  stmt to executes\n",
    "  \n",
    "```"
   ]
  },
  {
   "cell_type": "markdown",
   "metadata": {},
   "source": [
    "### if statements\n",
    "``` \n",
    "if(condition){\n",
    "    stms to execute   - other langu\n",
    "}\n",
    "#### in python \n",
    "if condition:\n",
    "    stms to execute\n",
    "else:\n",
    "    stms to execute\n",
    "    ```"
   ]
  },
  {
   "cell_type": "markdown",
   "metadata": {},
   "source": []
  },
  {
   "cell_type": "code",
   "execution_count": 1,
   "metadata": {},
   "outputs": [
    {
     "name": "stdout",
     "output_type": "stream",
     "text": [
      "enter u name:kiran\n",
      "enter password:12345678\n",
      "valid user details\n"
     ]
    }
   ],
   "source": [
    "# valid user details or not\n",
    "uname=input('enter u name:')\n",
    "pwd= input('enter password:')\n",
    "if uname=='kiran' and pwd=='12345678':\n",
    "    print('valid user details')\n",
    "else:\n",
    "    print('in valid')"
   ]
  },
  {
   "cell_type": "markdown",
   "metadata": {},
   "source": [
    "# syntax for if,elif,else\n",
    "```\n",
    "if condition:\n",
    "    stmts to execute\n",
    "elif condition:\n",
    "    stmts to execute\n",
    "else:\n",
    "    stmts to execute```"
   ]
  },
  {
   "cell_type": "code",
   "execution_count": 9,
   "metadata": {},
   "outputs": [
    {
     "name": "stdout",
     "output_type": "stream",
     "text": [
      "enter number7\n",
      "7 is odd\n"
     ]
    }
   ],
   "source": [
    "# even or odd\n",
    "n=int(input('enter number'))\n",
    "if n%2==0:\n",
    "    print(n,'is even')\n",
    "else:\n",
    "    print(n,'is odd')"
   ]
  },
  {
   "cell_type": "code",
   "execution_count": 10,
   "metadata": {},
   "outputs": [
    {
     "name": "stdout",
     "output_type": "stream",
     "text": [
      "enter a value73\n",
      "enter b value77\n",
      "enter c value97\n",
      "97 is biggest\n"
     ]
    }
   ],
   "source": [
    "# elif\n",
    "a=int(input('enter a value'))\n",
    "b=int(input('enter b value'))\n",
    "c=int(input('enter c value'))\n",
    "if a>b and a>c:\n",
    "    print(a,'is biggest')\n",
    "elif b>c:\n",
    "    print(b,'is biggest')\n",
    "else:\n",
    "    print(c,'is biggest')"
   ]
  },
  {
   "cell_type": "code",
   "execution_count": 15,
   "metadata": {},
   "outputs": [
    {
     "name": "stdout",
     "output_type": "stream",
     "text": [
      "enter a value65\n",
      "enter b value75\n",
      "enter c value86\n",
      "86 is biggest\n"
     ]
    }
   ],
   "source": [
    "# nested if\n",
    "a=int(input('enter a value'))\n",
    "b=int(input('enter b value'))\n",
    "c=int(input('enter c value'))\n",
    "if a==b==c:\n",
    "    print('all are equal')\n",
    "if b>c and a>c:\n",
    "    print(a,'is biggest')\n",
    "if b>c:  \n",
    "    print(b,'is biggest')\n",
    "else:\n",
    "    print(c,'is biggest')"
   ]
  },
  {
   "cell_type": "markdown",
   "metadata": {},
   "source": []
  }
 ],
 "metadata": {
  "kernelspec": {
   "display_name": "Python 3",
   "language": "python",
   "name": "python3"
  },
  "language_info": {
   "codemirror_mode": {
    "name": "ipython",
    "version": 3
   },
   "file_extension": ".py",
   "mimetype": "text/x-python",
   "name": "python",
   "nbconvert_exporter": "python",
   "pygments_lexer": "ipython3",
   "version": "3.7.3"
  }
 },
 "nbformat": 4,
 "nbformat_minor": 2
}
